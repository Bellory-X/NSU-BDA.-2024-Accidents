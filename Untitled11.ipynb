{
  "nbformat": 4,
  "nbformat_minor": 0,
  "metadata": {
    "colab": {
      "provenance": [],
      "include_colab_link": true
    },
    "kernelspec": {
      "name": "python3",
      "display_name": "Python 3"
    },
    "language_info": {
      "name": "python"
    }
  },
  "cells": [
    {
      "cell_type": "markdown",
      "metadata": {
        "id": "view-in-github",
        "colab_type": "text"
      },
      "source": [
        "<a href=\"https://colab.research.google.com/github/Bellory-X/NSU-BDA.-2024-Accidents/blob/main/Untitled11.ipynb\" target=\"_parent\"><img src=\"https://colab.research.google.com/assets/colab-badge.svg\" alt=\"Open In Colab\"/></a>"
      ]
    },
    {
      "cell_type": "code",
      "execution_count": null,
      "metadata": {
        "id": "UQx-xVt7Bpjg"
      },
      "outputs": [],
      "source": [
        "from google.colab import drive\n",
        "drive.mount('/content/drive')"
      ]
    },
    {
      "cell_type": "code",
      "source": [
        "!pip install catboost"
      ],
      "metadata": {
        "id": "1b72oBsQEKPp"
      },
      "execution_count": null,
      "outputs": []
    },
    {
      "cell_type": "code",
      "source": [
        "import numpy as np\n",
        "import pandas as pd"
      ],
      "metadata": {
        "id": "0jwqCXvIDBeS"
      },
      "execution_count": null,
      "outputs": []
    },
    {
      "cell_type": "code",
      "source": [
        "train_df = pd.read_csv('/content/drive/MyDrive/nsu-bda-2024-accidents/X_train.csv')\n",
        "y_train = pd.read_csv('/content/drive/MyDrive/nsu-bda-2024-accidents/y_train.csv')"
      ],
      "metadata": {
        "id": "h_zrcECvC80A"
      },
      "execution_count": null,
      "outputs": []
    },
    {
      "cell_type": "code",
      "source": [
        "train_df.info()"
      ],
      "metadata": {
        "colab": {
          "base_uri": "https://localhost:8080/"
        },
        "id": "zk0O8w5NoeGb",
        "outputId": "6dabc976-8f61-476e-d974-6a1d85960c4f"
      },
      "execution_count": null,
      "outputs": [
        {
          "output_type": "stream",
          "name": "stdout",
          "text": [
            "<class 'pandas.core.frame.DataFrame'>\n",
            "RangeIndex: 499056 entries, 0 to 499055\n",
            "Data columns (total 36 columns):\n",
            " #   Column                                   Non-Null Count   Dtype \n",
            "---  ------                                   --------------   ----- \n",
            " 0   Id                                       499056 non-null  int64 \n",
            " 1   accident_index                           499056 non-null  object\n",
            " 2   vehicle_reference                        499056 non-null  int64 \n",
            " 3   casualty_class                           499056 non-null  int64 \n",
            " 4   sex_of_casualty                          499056 non-null  int64 \n",
            " 5   age_of_casualty                          499056 non-null  int64 \n",
            " 6   age_band_of_casualty                     499056 non-null  int64 \n",
            " 7   pedestrian_location                      499056 non-null  int64 \n",
            " 8   pedestrian_movement                      499056 non-null  int64 \n",
            " 9   car_passenger                            499056 non-null  int64 \n",
            " 10  bus_or_coach_passenger                   499056 non-null  int64 \n",
            " 11  pedestrian_road_maintenance_worker       499056 non-null  int64 \n",
            " 12  casualty_type                            499056 non-null  int64 \n",
            " 13  casualty_home_area_type                  499056 non-null  int64 \n",
            " 14  casualty_distance_banding                499056 non-null  int64 \n",
            " 15  vehicle_type                             499056 non-null  int64 \n",
            " 16  vehicle_manoeuvre                        499056 non-null  int64 \n",
            " 17  vehicle_left_hand_drive                  499056 non-null  int64 \n",
            " 18  engine_capacity_cc                       499056 non-null  int64 \n",
            " 19  age_of_vehicle                           499056 non-null  int64 \n",
            " 20  generic_make_model                       499056 non-null  object\n",
            " 21  police_force                             499056 non-null  int64 \n",
            " 22  local_authority_highway                  499056 non-null  object\n",
            " 23  first_road_class                         499056 non-null  int64 \n",
            " 24  first_road_number                        499056 non-null  int64 \n",
            " 25  road_type                                499056 non-null  int64 \n",
            " 26  speed_limit                              499056 non-null  int64 \n",
            " 27  junction_detail                          499056 non-null  int64 \n",
            " 28  junction_control                         499056 non-null  int64 \n",
            " 29  second_road_class                        499056 non-null  int64 \n",
            " 30  second_road_number                       499056 non-null  int64 \n",
            " 31  pedestrian_crossing_human_control        499056 non-null  int64 \n",
            " 32  pedestrian_crossing_physical_facilities  499056 non-null  int64 \n",
            " 33  light_conditions                         499056 non-null  int64 \n",
            " 34  weather_conditions                       499056 non-null  int64 \n",
            " 35  road_surface_conditions                  499056 non-null  int64 \n",
            "dtypes: int64(33), object(3)\n",
            "memory usage: 137.1+ MB\n"
          ]
        }
      ]
    },
    {
      "cell_type": "code",
      "source": [
        "cat_feat = ['accident_index','generic_make_model','local_authority_highway']\n",
        "train_df[cat_feat] = train_df[cat_feat].astype('category')"
      ],
      "metadata": {
        "id": "_cNTHW2MDP1H"
      },
      "execution_count": null,
      "outputs": []
    },
    {
      "cell_type": "code",
      "source": [
        "train_df.info()"
      ],
      "metadata": {
        "colab": {
          "base_uri": "https://localhost:8080/"
        },
        "id": "cj6asJaeDcd0",
        "outputId": "2f30bea4-afff-418b-8453-7e8e9e9f237e"
      },
      "execution_count": null,
      "outputs": [
        {
          "output_type": "stream",
          "name": "stdout",
          "text": [
            "<class 'pandas.core.frame.DataFrame'>\n",
            "RangeIndex: 499056 entries, 0 to 499055\n",
            "Data columns (total 36 columns):\n",
            " #   Column                                   Non-Null Count   Dtype   \n",
            "---  ------                                   --------------   -----   \n",
            " 0   Id                                       499056 non-null  int64   \n",
            " 1   accident_index                           499056 non-null  category\n",
            " 2   vehicle_reference                        499056 non-null  int64   \n",
            " 3   casualty_class                           499056 non-null  int64   \n",
            " 4   sex_of_casualty                          499056 non-null  int64   \n",
            " 5   age_of_casualty                          499056 non-null  int64   \n",
            " 6   age_band_of_casualty                     499056 non-null  int64   \n",
            " 7   pedestrian_location                      499056 non-null  int64   \n",
            " 8   pedestrian_movement                      499056 non-null  int64   \n",
            " 9   car_passenger                            499056 non-null  int64   \n",
            " 10  bus_or_coach_passenger                   499056 non-null  int64   \n",
            " 11  pedestrian_road_maintenance_worker       499056 non-null  int64   \n",
            " 12  casualty_type                            499056 non-null  int64   \n",
            " 13  casualty_home_area_type                  499056 non-null  int64   \n",
            " 14  casualty_distance_banding                499056 non-null  int64   \n",
            " 15  vehicle_type                             499056 non-null  int64   \n",
            " 16  vehicle_manoeuvre                        499056 non-null  int64   \n",
            " 17  vehicle_left_hand_drive                  499056 non-null  int64   \n",
            " 18  engine_capacity_cc                       499056 non-null  int64   \n",
            " 19  age_of_vehicle                           499056 non-null  int64   \n",
            " 20  generic_make_model                       499056 non-null  category\n",
            " 21  police_force                             499056 non-null  int64   \n",
            " 22  local_authority_highway                  499056 non-null  category\n",
            " 23  first_road_class                         499056 non-null  int64   \n",
            " 24  first_road_number                        499056 non-null  int64   \n",
            " 25  road_type                                499056 non-null  int64   \n",
            " 26  speed_limit                              499056 non-null  int64   \n",
            " 27  junction_detail                          499056 non-null  int64   \n",
            " 28  junction_control                         499056 non-null  int64   \n",
            " 29  second_road_class                        499056 non-null  int64   \n",
            " 30  second_road_number                       499056 non-null  int64   \n",
            " 31  pedestrian_crossing_human_control        499056 non-null  int64   \n",
            " 32  pedestrian_crossing_physical_facilities  499056 non-null  int64   \n",
            " 33  light_conditions                         499056 non-null  int64   \n",
            " 34  weather_conditions                       499056 non-null  int64   \n",
            " 35  road_surface_conditions                  499056 non-null  int64   \n",
            "dtypes: category(3), int64(33)\n",
            "memory usage: 148.8 MB\n"
          ]
        }
      ]
    },
    {
      "cell_type": "code",
      "source": [
        "y_train[y_train['casualty_severity']==1]"
      ],
      "metadata": {
        "colab": {
          "base_uri": "https://localhost:8080/",
          "height": 423
        },
        "id": "dd0doKXFSUWr",
        "outputId": "bad31115-a0a0-4cf9-9597-5ec89cbd3050"
      },
      "execution_count": null,
      "outputs": [
        {
          "output_type": "execute_result",
          "data": {
            "text/plain": [
              "            Id  casualty_severity\n",
              "26      662083                  1\n",
              "27      230385                  1\n",
              "224     352835                  1\n",
              "268     395333                  1\n",
              "351     345673                  1\n",
              "...        ...                ...\n",
              "498706  367654                  1\n",
              "498773  618467                  1\n",
              "498986  438974                  1\n",
              "499008  256840                  1\n",
              "499033  184779                  1\n",
              "\n",
              "[6025 rows x 2 columns]"
            ],
            "text/html": [
              "\n",
              "  <div id=\"df-eb3422cf-2430-4744-b3cb-376df3eee6a0\" class=\"colab-df-container\">\n",
              "    <div>\n",
              "<style scoped>\n",
              "    .dataframe tbody tr th:only-of-type {\n",
              "        vertical-align: middle;\n",
              "    }\n",
              "\n",
              "    .dataframe tbody tr th {\n",
              "        vertical-align: top;\n",
              "    }\n",
              "\n",
              "    .dataframe thead th {\n",
              "        text-align: right;\n",
              "    }\n",
              "</style>\n",
              "<table border=\"1\" class=\"dataframe\">\n",
              "  <thead>\n",
              "    <tr style=\"text-align: right;\">\n",
              "      <th></th>\n",
              "      <th>Id</th>\n",
              "      <th>casualty_severity</th>\n",
              "    </tr>\n",
              "  </thead>\n",
              "  <tbody>\n",
              "    <tr>\n",
              "      <th>26</th>\n",
              "      <td>662083</td>\n",
              "      <td>1</td>\n",
              "    </tr>\n",
              "    <tr>\n",
              "      <th>27</th>\n",
              "      <td>230385</td>\n",
              "      <td>1</td>\n",
              "    </tr>\n",
              "    <tr>\n",
              "      <th>224</th>\n",
              "      <td>352835</td>\n",
              "      <td>1</td>\n",
              "    </tr>\n",
              "    <tr>\n",
              "      <th>268</th>\n",
              "      <td>395333</td>\n",
              "      <td>1</td>\n",
              "    </tr>\n",
              "    <tr>\n",
              "      <th>351</th>\n",
              "      <td>345673</td>\n",
              "      <td>1</td>\n",
              "    </tr>\n",
              "    <tr>\n",
              "      <th>...</th>\n",
              "      <td>...</td>\n",
              "      <td>...</td>\n",
              "    </tr>\n",
              "    <tr>\n",
              "      <th>498706</th>\n",
              "      <td>367654</td>\n",
              "      <td>1</td>\n",
              "    </tr>\n",
              "    <tr>\n",
              "      <th>498773</th>\n",
              "      <td>618467</td>\n",
              "      <td>1</td>\n",
              "    </tr>\n",
              "    <tr>\n",
              "      <th>498986</th>\n",
              "      <td>438974</td>\n",
              "      <td>1</td>\n",
              "    </tr>\n",
              "    <tr>\n",
              "      <th>499008</th>\n",
              "      <td>256840</td>\n",
              "      <td>1</td>\n",
              "    </tr>\n",
              "    <tr>\n",
              "      <th>499033</th>\n",
              "      <td>184779</td>\n",
              "      <td>1</td>\n",
              "    </tr>\n",
              "  </tbody>\n",
              "</table>\n",
              "<p>6025 rows × 2 columns</p>\n",
              "</div>\n",
              "    <div class=\"colab-df-buttons\">\n",
              "\n",
              "  <div class=\"colab-df-container\">\n",
              "    <button class=\"colab-df-convert\" onclick=\"convertToInteractive('df-eb3422cf-2430-4744-b3cb-376df3eee6a0')\"\n",
              "            title=\"Convert this dataframe to an interactive table.\"\n",
              "            style=\"display:none;\">\n",
              "\n",
              "  <svg xmlns=\"http://www.w3.org/2000/svg\" height=\"24px\" viewBox=\"0 -960 960 960\">\n",
              "    <path d=\"M120-120v-720h720v720H120Zm60-500h600v-160H180v160Zm220 220h160v-160H400v160Zm0 220h160v-160H400v160ZM180-400h160v-160H180v160Zm440 0h160v-160H620v160ZM180-180h160v-160H180v160Zm440 0h160v-160H620v160Z\"/>\n",
              "  </svg>\n",
              "    </button>\n",
              "\n",
              "  <style>\n",
              "    .colab-df-container {\n",
              "      display:flex;\n",
              "      gap: 12px;\n",
              "    }\n",
              "\n",
              "    .colab-df-convert {\n",
              "      background-color: #E8F0FE;\n",
              "      border: none;\n",
              "      border-radius: 50%;\n",
              "      cursor: pointer;\n",
              "      display: none;\n",
              "      fill: #1967D2;\n",
              "      height: 32px;\n",
              "      padding: 0 0 0 0;\n",
              "      width: 32px;\n",
              "    }\n",
              "\n",
              "    .colab-df-convert:hover {\n",
              "      background-color: #E2EBFA;\n",
              "      box-shadow: 0px 1px 2px rgba(60, 64, 67, 0.3), 0px 1px 3px 1px rgba(60, 64, 67, 0.15);\n",
              "      fill: #174EA6;\n",
              "    }\n",
              "\n",
              "    .colab-df-buttons div {\n",
              "      margin-bottom: 4px;\n",
              "    }\n",
              "\n",
              "    [theme=dark] .colab-df-convert {\n",
              "      background-color: #3B4455;\n",
              "      fill: #D2E3FC;\n",
              "    }\n",
              "\n",
              "    [theme=dark] .colab-df-convert:hover {\n",
              "      background-color: #434B5C;\n",
              "      box-shadow: 0px 1px 3px 1px rgba(0, 0, 0, 0.15);\n",
              "      filter: drop-shadow(0px 1px 2px rgba(0, 0, 0, 0.3));\n",
              "      fill: #FFFFFF;\n",
              "    }\n",
              "  </style>\n",
              "\n",
              "    <script>\n",
              "      const buttonEl =\n",
              "        document.querySelector('#df-eb3422cf-2430-4744-b3cb-376df3eee6a0 button.colab-df-convert');\n",
              "      buttonEl.style.display =\n",
              "        google.colab.kernel.accessAllowed ? 'block' : 'none';\n",
              "\n",
              "      async function convertToInteractive(key) {\n",
              "        const element = document.querySelector('#df-eb3422cf-2430-4744-b3cb-376df3eee6a0');\n",
              "        const dataTable =\n",
              "          await google.colab.kernel.invokeFunction('convertToInteractive',\n",
              "                                                    [key], {});\n",
              "        if (!dataTable) return;\n",
              "\n",
              "        const docLinkHtml = 'Like what you see? Visit the ' +\n",
              "          '<a target=\"_blank\" href=https://colab.research.google.com/notebooks/data_table.ipynb>data table notebook</a>'\n",
              "          + ' to learn more about interactive tables.';\n",
              "        element.innerHTML = '';\n",
              "        dataTable['output_type'] = 'display_data';\n",
              "        await google.colab.output.renderOutput(dataTable, element);\n",
              "        const docLink = document.createElement('div');\n",
              "        docLink.innerHTML = docLinkHtml;\n",
              "        element.appendChild(docLink);\n",
              "      }\n",
              "    </script>\n",
              "  </div>\n",
              "\n",
              "\n",
              "<div id=\"df-3ee5d3ac-c05e-46aa-bb3c-fa1d09d1331e\">\n",
              "  <button class=\"colab-df-quickchart\" onclick=\"quickchart('df-3ee5d3ac-c05e-46aa-bb3c-fa1d09d1331e')\"\n",
              "            title=\"Suggest charts\"\n",
              "            style=\"display:none;\">\n",
              "\n",
              "<svg xmlns=\"http://www.w3.org/2000/svg\" height=\"24px\"viewBox=\"0 0 24 24\"\n",
              "     width=\"24px\">\n",
              "    <g>\n",
              "        <path d=\"M19 3H5c-1.1 0-2 .9-2 2v14c0 1.1.9 2 2 2h14c1.1 0 2-.9 2-2V5c0-1.1-.9-2-2-2zM9 17H7v-7h2v7zm4 0h-2V7h2v10zm4 0h-2v-4h2v4z\"/>\n",
              "    </g>\n",
              "</svg>\n",
              "  </button>\n",
              "\n",
              "<style>\n",
              "  .colab-df-quickchart {\n",
              "      --bg-color: #E8F0FE;\n",
              "      --fill-color: #1967D2;\n",
              "      --hover-bg-color: #E2EBFA;\n",
              "      --hover-fill-color: #174EA6;\n",
              "      --disabled-fill-color: #AAA;\n",
              "      --disabled-bg-color: #DDD;\n",
              "  }\n",
              "\n",
              "  [theme=dark] .colab-df-quickchart {\n",
              "      --bg-color: #3B4455;\n",
              "      --fill-color: #D2E3FC;\n",
              "      --hover-bg-color: #434B5C;\n",
              "      --hover-fill-color: #FFFFFF;\n",
              "      --disabled-bg-color: #3B4455;\n",
              "      --disabled-fill-color: #666;\n",
              "  }\n",
              "\n",
              "  .colab-df-quickchart {\n",
              "    background-color: var(--bg-color);\n",
              "    border: none;\n",
              "    border-radius: 50%;\n",
              "    cursor: pointer;\n",
              "    display: none;\n",
              "    fill: var(--fill-color);\n",
              "    height: 32px;\n",
              "    padding: 0;\n",
              "    width: 32px;\n",
              "  }\n",
              "\n",
              "  .colab-df-quickchart:hover {\n",
              "    background-color: var(--hover-bg-color);\n",
              "    box-shadow: 0 1px 2px rgba(60, 64, 67, 0.3), 0 1px 3px 1px rgba(60, 64, 67, 0.15);\n",
              "    fill: var(--button-hover-fill-color);\n",
              "  }\n",
              "\n",
              "  .colab-df-quickchart-complete:disabled,\n",
              "  .colab-df-quickchart-complete:disabled:hover {\n",
              "    background-color: var(--disabled-bg-color);\n",
              "    fill: var(--disabled-fill-color);\n",
              "    box-shadow: none;\n",
              "  }\n",
              "\n",
              "  .colab-df-spinner {\n",
              "    border: 2px solid var(--fill-color);\n",
              "    border-color: transparent;\n",
              "    border-bottom-color: var(--fill-color);\n",
              "    animation:\n",
              "      spin 1s steps(1) infinite;\n",
              "  }\n",
              "\n",
              "  @keyframes spin {\n",
              "    0% {\n",
              "      border-color: transparent;\n",
              "      border-bottom-color: var(--fill-color);\n",
              "      border-left-color: var(--fill-color);\n",
              "    }\n",
              "    20% {\n",
              "      border-color: transparent;\n",
              "      border-left-color: var(--fill-color);\n",
              "      border-top-color: var(--fill-color);\n",
              "    }\n",
              "    30% {\n",
              "      border-color: transparent;\n",
              "      border-left-color: var(--fill-color);\n",
              "      border-top-color: var(--fill-color);\n",
              "      border-right-color: var(--fill-color);\n",
              "    }\n",
              "    40% {\n",
              "      border-color: transparent;\n",
              "      border-right-color: var(--fill-color);\n",
              "      border-top-color: var(--fill-color);\n",
              "    }\n",
              "    60% {\n",
              "      border-color: transparent;\n",
              "      border-right-color: var(--fill-color);\n",
              "    }\n",
              "    80% {\n",
              "      border-color: transparent;\n",
              "      border-right-color: var(--fill-color);\n",
              "      border-bottom-color: var(--fill-color);\n",
              "    }\n",
              "    90% {\n",
              "      border-color: transparent;\n",
              "      border-bottom-color: var(--fill-color);\n",
              "    }\n",
              "  }\n",
              "</style>\n",
              "\n",
              "  <script>\n",
              "    async function quickchart(key) {\n",
              "      const quickchartButtonEl =\n",
              "        document.querySelector('#' + key + ' button');\n",
              "      quickchartButtonEl.disabled = true;  // To prevent multiple clicks.\n",
              "      quickchartButtonEl.classList.add('colab-df-spinner');\n",
              "      try {\n",
              "        const charts = await google.colab.kernel.invokeFunction(\n",
              "            'suggestCharts', [key], {});\n",
              "      } catch (error) {\n",
              "        console.error('Error during call to suggestCharts:', error);\n",
              "      }\n",
              "      quickchartButtonEl.classList.remove('colab-df-spinner');\n",
              "      quickchartButtonEl.classList.add('colab-df-quickchart-complete');\n",
              "    }\n",
              "    (() => {\n",
              "      let quickchartButtonEl =\n",
              "        document.querySelector('#df-3ee5d3ac-c05e-46aa-bb3c-fa1d09d1331e button');\n",
              "      quickchartButtonEl.style.display =\n",
              "        google.colab.kernel.accessAllowed ? 'block' : 'none';\n",
              "    })();\n",
              "  </script>\n",
              "</div>\n",
              "    </div>\n",
              "  </div>\n"
            ],
            "application/vnd.google.colaboratory.intrinsic+json": {
              "type": "dataframe",
              "summary": "{\n  \"name\": \"y_train[y_train['casualty_severity']==1]\",\n  \"rows\": 6025,\n  \"fields\": [\n    {\n      \"column\": \"Id\",\n      \"properties\": {\n        \"dtype\": \"number\",\n        \"std\": 189976,\n        \"min\": 20,\n        \"max\": 665173,\n        \"num_unique_values\": 6025,\n        \"samples\": [\n          384799,\n          460760,\n          234321\n        ],\n        \"semantic_type\": \"\",\n        \"description\": \"\"\n      }\n    },\n    {\n      \"column\": \"casualty_severity\",\n      \"properties\": {\n        \"dtype\": \"number\",\n        \"std\": 0,\n        \"min\": 1,\n        \"max\": 1,\n        \"num_unique_values\": 1,\n        \"samples\": [\n          1\n        ],\n        \"semantic_type\": \"\",\n        \"description\": \"\"\n      }\n    }\n  ]\n}"
            }
          },
          "metadata": {},
          "execution_count": 250
        }
      ]
    },
    {
      "cell_type": "code",
      "source": [
        "len(y_train[y_train['casualty_severity']==1]), len(y_train[y_train['casualty_severity']==2]),len(y_train[y_train['casualty_severity']==3])"
      ],
      "metadata": {
        "colab": {
          "base_uri": "https://localhost:8080/"
        },
        "id": "vEFfD5FYggfp",
        "outputId": "2e294f2a-01f8-4943-92f0-2194f56373b7"
      },
      "execution_count": null,
      "outputs": [
        {
          "output_type": "execute_result",
          "data": {
            "text/plain": [
              "(6025, 90535, 402496)"
            ]
          },
          "metadata": {},
          "execution_count": 251
        }
      ]
    },
    {
      "cell_type": "code",
      "source": [
        "l1 = len(y_train[y_train['casualty_severity']==1])\n",
        "l2 = len(y_train[y_train['casualty_severity']==2])\n",
        "l3 = len(y_train[y_train['casualty_severity']==3])\n",
        "w1 = max(l1,l2,l3)/l1\n",
        "w2 = max(l1,l2,l3)/l2\n",
        "w3 = max(l1,l2,l3)/l3\n",
        "w1,w2,w3"
      ],
      "metadata": {
        "colab": {
          "base_uri": "https://localhost:8080/"
        },
        "id": "MgU4sFRdSJTR",
        "outputId": "8db57fbe-5b72-43d7-dee7-48257140bd0b"
      },
      "execution_count": null,
      "outputs": [
        {
          "output_type": "execute_result",
          "data": {
            "text/plain": [
              "(66.8043153526971, 4.445750262329486, 1.0)"
            ]
          },
          "metadata": {},
          "execution_count": 252
        }
      ]
    },
    {
      "cell_type": "code",
      "source": [
        "class_weights = {1:w1/8,2:w2/2,3:w3}\n",
        "class_weights"
      ],
      "metadata": {
        "colab": {
          "base_uri": "https://localhost:8080/"
        },
        "id": "HwdtkEbYrcOJ",
        "outputId": "2877e0c4-89fb-4cf6-96ce-e812514430a5"
      },
      "execution_count": null,
      "outputs": [
        {
          "output_type": "execute_result",
          "data": {
            "text/plain": [
              "{1: 8.350539419087138, 2: 2.222875131164743, 3: 1.0}"
            ]
          },
          "metadata": {},
          "execution_count": 253
        }
      ]
    },
    {
      "cell_type": "code",
      "source": [
        "y_train = y_train.casualty_severity\n",
        "X_train = train_df.drop(columns=['Id'])"
      ],
      "metadata": {
        "id": "ZbnRK-yCDs1e"
      },
      "execution_count": null,
      "outputs": []
    },
    {
      "cell_type": "code",
      "source": [
        "X_train.info()"
      ],
      "metadata": {
        "colab": {
          "base_uri": "https://localhost:8080/"
        },
        "id": "SGn7zyj_TZIG",
        "outputId": "091f1111-0a9c-4e12-8b72-6db6fcc015c6"
      },
      "execution_count": null,
      "outputs": [
        {
          "output_type": "stream",
          "name": "stdout",
          "text": [
            "<class 'pandas.core.frame.DataFrame'>\n",
            "RangeIndex: 499056 entries, 0 to 499055\n",
            "Data columns (total 35 columns):\n",
            " #   Column                                   Non-Null Count   Dtype   \n",
            "---  ------                                   --------------   -----   \n",
            " 0   accident_index                           499056 non-null  category\n",
            " 1   vehicle_reference                        499056 non-null  int64   \n",
            " 2   casualty_class                           499056 non-null  int64   \n",
            " 3   sex_of_casualty                          499056 non-null  int64   \n",
            " 4   age_of_casualty                          499056 non-null  int64   \n",
            " 5   age_band_of_casualty                     499056 non-null  int64   \n",
            " 6   pedestrian_location                      499056 non-null  int64   \n",
            " 7   pedestrian_movement                      499056 non-null  int64   \n",
            " 8   car_passenger                            499056 non-null  int64   \n",
            " 9   bus_or_coach_passenger                   499056 non-null  int64   \n",
            " 10  pedestrian_road_maintenance_worker       499056 non-null  int64   \n",
            " 11  casualty_type                            499056 non-null  int64   \n",
            " 12  casualty_home_area_type                  499056 non-null  int64   \n",
            " 13  casualty_distance_banding                499056 non-null  int64   \n",
            " 14  vehicle_type                             499056 non-null  int64   \n",
            " 15  vehicle_manoeuvre                        499056 non-null  int64   \n",
            " 16  vehicle_left_hand_drive                  499056 non-null  int64   \n",
            " 17  engine_capacity_cc                       499056 non-null  int64   \n",
            " 18  age_of_vehicle                           499056 non-null  int64   \n",
            " 19  generic_make_model                       499056 non-null  category\n",
            " 20  police_force                             499056 non-null  int64   \n",
            " 21  local_authority_highway                  499056 non-null  category\n",
            " 22  first_road_class                         499056 non-null  int64   \n",
            " 23  first_road_number                        499056 non-null  int64   \n",
            " 24  road_type                                499056 non-null  int64   \n",
            " 25  speed_limit                              499056 non-null  int64   \n",
            " 26  junction_detail                          499056 non-null  int64   \n",
            " 27  junction_control                         499056 non-null  int64   \n",
            " 28  second_road_class                        499056 non-null  int64   \n",
            " 29  second_road_number                       499056 non-null  int64   \n",
            " 30  pedestrian_crossing_human_control        499056 non-null  int64   \n",
            " 31  pedestrian_crossing_physical_facilities  499056 non-null  int64   \n",
            " 32  light_conditions                         499056 non-null  int64   \n",
            " 33  weather_conditions                       499056 non-null  int64   \n",
            " 34  road_surface_conditions                  499056 non-null  int64   \n",
            "dtypes: category(3), int64(32)\n",
            "memory usage: 145.0 MB\n"
          ]
        }
      ]
    },
    {
      "cell_type": "code",
      "source": [
        "from catboost import CatBoostClassifier\n",
        "cat = CatBoostClassifier(learning_rate=0.09,iterations=500,depth=6,cat_features=cat_feat,class_weights=class_weights,verbose=20)"
      ],
      "metadata": {
        "id": "EJ68RozfD4OG"
      },
      "execution_count": null,
      "outputs": []
    },
    {
      "cell_type": "code",
      "source": [
        "cat.fit(X_train,y_train)"
      ],
      "metadata": {
        "colab": {
          "base_uri": "https://localhost:8080/"
        },
        "id": "bdwwtw8HElGv",
        "outputId": "7985bcf5-9f24-40cf-8bf3-accebbf88379"
      },
      "execution_count": null,
      "outputs": [
        {
          "output_type": "stream",
          "name": "stdout",
          "text": [
            "0:\tlearn: 1.0477361\ttotal: 1.67s\tremaining: 13m 53s\n",
            "20:\tlearn: 0.7695760\ttotal: 36.8s\tremaining: 13m 59s\n",
            "40:\tlearn: 0.7309110\ttotal: 1m 9s\tremaining: 12m 58s\n",
            "60:\tlearn: 0.7192028\ttotal: 1m 43s\tremaining: 12m 26s\n",
            "80:\tlearn: 0.7124075\ttotal: 2m 18s\tremaining: 11m 56s\n",
            "100:\tlearn: 0.7086712\ttotal: 2m 52s\tremaining: 11m 21s\n",
            "120:\tlearn: 0.7057906\ttotal: 3m 28s\tremaining: 10m 53s\n",
            "140:\tlearn: 0.7033351\ttotal: 4m 3s\tremaining: 10m 18s\n",
            "160:\tlearn: 0.7007845\ttotal: 4m 36s\tremaining: 9m 42s\n",
            "180:\tlearn: 0.6988367\ttotal: 5m 10s\tremaining: 9m 8s\n",
            "200:\tlearn: 0.6968690\ttotal: 5m 44s\tremaining: 8m 31s\n",
            "220:\tlearn: 0.6951314\ttotal: 6m 18s\tremaining: 7m 58s\n",
            "240:\tlearn: 0.6938140\ttotal: 6m 53s\tremaining: 7m 24s\n",
            "260:\tlearn: 0.6926916\ttotal: 7m 29s\tremaining: 6m 51s\n",
            "280:\tlearn: 0.6915422\ttotal: 8m 3s\tremaining: 6m 16s\n",
            "300:\tlearn: 0.6904650\ttotal: 8m 36s\tremaining: 5m 41s\n",
            "320:\tlearn: 0.6894363\ttotal: 9m 12s\tremaining: 5m 7s\n",
            "340:\tlearn: 0.6884515\ttotal: 9m 45s\tremaining: 4m 33s\n",
            "360:\tlearn: 0.6875486\ttotal: 10m 19s\tremaining: 3m 58s\n",
            "380:\tlearn: 0.6863502\ttotal: 10m 53s\tremaining: 3m 24s\n",
            "400:\tlearn: 0.6852558\ttotal: 11m 29s\tremaining: 2m 50s\n",
            "420:\tlearn: 0.6843752\ttotal: 12m 4s\tremaining: 2m 15s\n",
            "440:\tlearn: 0.6834726\ttotal: 12m 38s\tremaining: 1m 41s\n",
            "460:\tlearn: 0.6826310\ttotal: 13m 11s\tremaining: 1m 6s\n",
            "480:\tlearn: 0.6817819\ttotal: 13m 44s\tremaining: 32.6s\n",
            "499:\tlearn: 0.6810712\ttotal: 14m 16s\tremaining: 0us\n"
          ]
        },
        {
          "output_type": "execute_result",
          "data": {
            "text/plain": [
              "<catboost.core.CatBoostClassifier at 0x7f74297a47f0>"
            ]
          },
          "metadata": {},
          "execution_count": 257
        }
      ]
    },
    {
      "cell_type": "code",
      "source": [
        "df_test = pd.read_csv('/content/drive/MyDrive/nsu-bda-2024-accidents/X_test.csv')"
      ],
      "metadata": {
        "id": "2PyHAwqmGHka"
      },
      "execution_count": null,
      "outputs": []
    },
    {
      "cell_type": "code",
      "source": [
        "df_test[cat_feat] = df_test[cat_feat].astype('category')\n",
        "X_test = df_test.drop(columns=['Id'])"
      ],
      "metadata": {
        "id": "w9DKUL8fF8oV"
      },
      "execution_count": null,
      "outputs": []
    },
    {
      "cell_type": "code",
      "source": [
        "y_pred = cat.predict(X_test, prediction_type='Class')"
      ],
      "metadata": {
        "id": "-zVwf8TUFHkQ"
      },
      "execution_count": null,
      "outputs": []
    },
    {
      "cell_type": "code",
      "source": [
        "df_sub = pd.read_csv('/content/drive/MyDrive/nsu-bda-2024-accidents/random_result.csv')\n",
        "df_sub.casualty_severity=y_pred\n",
        "df_sub.to_csv('submisssion7.csv', index=False)"
      ],
      "metadata": {
        "id": "2kSDAQhkGcBn"
      },
      "execution_count": null,
      "outputs": []
    }
  ]
}